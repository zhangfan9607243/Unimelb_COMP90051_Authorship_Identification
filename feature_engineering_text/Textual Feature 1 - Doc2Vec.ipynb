{
 "cells": [
  {
   "cell_type": "markdown",
   "metadata": {},
   "source": [
    "# Authorship Identification"
   ]
  },
  {
   "cell_type": "markdown",
   "metadata": {},
   "source": [
    "## Section 3.1: Textual Feature Engineering - Doc2Vec"
   ]
  },
  {
   "cell_type": "code",
   "execution_count": 1,
   "metadata": {},
   "outputs": [],
   "source": [
    "import numpy as np\n",
    "import pandas as pd\n",
    "\n",
    "from gensim.models import Word2Vec\n",
    "from gensim.models.doc2vec import Doc2Vec, TaggedDocument"
   ]
  },
  {
   "cell_type": "code",
   "execution_count": 2,
   "metadata": {},
   "outputs": [],
   "source": [
    "data_tran = pd.read_json('../data/data2/data_tran.json', orient='records', lines=True)\n",
    "data_test = pd.read_json('../data/data2/data_test.json', orient='records', lines=True)\n",
    "\n",
    "n_tran = data_tran.shape[0]\n",
    "n_test = data_test.shape[0]"
   ]
  },
  {
   "cell_type": "markdown",
   "metadata": {},
   "source": [
    "### 1. Train Model"
   ]
  },
  {
   "cell_type": "code",
   "execution_count": null,
   "metadata": {},
   "outputs": [],
   "source": [
    "corpus_title = [TaggedDocument(words=text.split(), tags=[str(i)]) for i, text in enumerate(data_tran[\"title_text\"])]\n",
    "model_doc2vec_title = Doc2Vec(vector_size=100, min_count=1, epochs=100, workers=8, dm=1)\n",
    "model_doc2vec_title.build_vocab(corpus_title)\n",
    "model_doc2vec_title.train(corpus_title, total_examples=model_doc2vec_title.corpus_count, epochs=model_doc2vec_title.epochs)\n",
    "model_doc2vec_title.save(\"../model/model_doc2vec/model_doc2vec_title.bin\")"
   ]
  },
  {
   "cell_type": "code",
   "execution_count": 4,
   "metadata": {},
   "outputs": [],
   "source": [
    "corpus_abstract = [TaggedDocument(words=text.split(), tags=[str(i)]) for i, text in enumerate(data_tran[\"abstract_text\"])]\n",
    "model_doc2vec_abstract = Doc2Vec(vector_size=200, min_count=1, epochs=100, workers=8, dm=1)\n",
    "model_doc2vec_abstract.build_vocab(corpus_abstract)\n",
    "model_doc2vec_abstract.train(corpus_abstract, total_examples=model_doc2vec_abstract.corpus_count, epochs=model_doc2vec_abstract.epochs)\n",
    "model_doc2vec_abstract.save(\"../model/model_doc2vec/model_doc2vec_abstract.bin\")"
   ]
  },
  {
   "cell_type": "markdown",
   "metadata": {},
   "source": [
    "### 2. Load Model"
   ]
  },
  {
   "cell_type": "code",
   "execution_count": 5,
   "metadata": {},
   "outputs": [],
   "source": [
    "model_doc2vec_title = Doc2Vec.load('../model/model_doc2vec/model_doc2vec_title.bin')\n",
    "model_doc2vec_abstract = Doc2Vec.load('../model/model_doc2vec/model_doc2vec_abstract.bin')"
   ]
  },
  {
   "cell_type": "markdown",
   "metadata": {},
   "source": [
    "### 3. Document Embeddings"
   ]
  },
  {
   "cell_type": "code",
   "execution_count": null,
   "metadata": {},
   "outputs": [],
   "source": [
    "x_tran_title_doc2vec = np.array([model_doc2vec_title.infer_vector(text.split()) for text in data_tran['title_text']])\n",
    "x_test_title_doc2vec = np.array([model_doc2vec_title.infer_vector(text.split()) for text in data_test['title_text']])\n",
    "\n",
    "x_tran_abstract_doc2vec = np.array([model_doc2vec_abstract.infer_vector(text.split()) for text in data_tran['abstract_text']])\n",
    "x_test_abstract_doc2vec = np.array([model_doc2vec_abstract.infer_vector(text.split()) for text in data_test['abstract_text']])"
   ]
  },
  {
   "cell_type": "code",
   "execution_count": null,
   "metadata": {},
   "outputs": [],
   "source": [
    "np.save('../data/data2/x_tran_title_doc2vec.npy', x_tran_title_doc2vec)\n",
    "np.save('../data/data2/x_test_title_doc2vec.npy', x_test_title_doc2vec)\n",
    "\n",
    "np.save('../data/data2/x_tran_abstract_doc2vec.npy', x_tran_abstract_doc2vec)\n",
    "np.save('../data/data2/x_test_abstract_doc2vec.npy', x_test_abstract_doc2vec)"
   ]
  }
 ],
 "metadata": {
  "kernelspec": {
   "display_name": "base",
   "language": "python",
   "name": "python3"
  },
  "language_info": {
   "codemirror_mode": {
    "name": "ipython",
    "version": 3
   },
   "file_extension": ".py",
   "mimetype": "text/x-python",
   "name": "python",
   "nbconvert_exporter": "python",
   "pygments_lexer": "ipython3",
   "version": "3.12.3"
  }
 },
 "nbformat": 4,
 "nbformat_minor": 4
}
