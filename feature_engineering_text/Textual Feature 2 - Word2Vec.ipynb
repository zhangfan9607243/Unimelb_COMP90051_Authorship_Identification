{
 "cells": [
  {
   "cell_type": "markdown",
   "metadata": {},
   "source": [
    "# Authorship Identification"
   ]
  },
  {
   "cell_type": "markdown",
   "metadata": {},
   "source": [
    "## Section 3.2: Textual Feature Engineering - Word2Vec"
   ]
  },
  {
   "cell_type": "code",
   "execution_count": 1,
   "metadata": {},
   "outputs": [],
   "source": [
    "import numpy as np\n",
    "import pandas as pd\n",
    "\n",
    "from gensim.models import Word2Vec\n",
    "from gensim.models.doc2vec import Doc2Vec, TaggedDocument"
   ]
  },
  {
   "cell_type": "markdown",
   "metadata": {},
   "source": [
    "### 1. Train Model"
   ]
  },
  {
   "cell_type": "code",
   "execution_count": 2,
   "metadata": {},
   "outputs": [],
   "source": [
    "data_tran = pd.read_json('../data/data2/data_tran.json', orient='records', lines=True)\n",
    "data_test = pd.read_json('../data/data2/data_test.json', orient='records', lines=True)\n",
    "\n",
    "n_tran = data_tran.shape[0]\n",
    "n_test = data_test.shape[0]"
   ]
  },
  {
   "cell_type": "code",
   "execution_count": 3,
   "metadata": {},
   "outputs": [],
   "source": [
    "corpus_title = [text.split() for text in data_tran[\"title_text\"]]\n",
    "model_word2vec_title = Word2Vec(sentences=corpus_title, vector_size=100, window=5, min_count=1, workers=6, sg=1, epochs=100)\n",
    "model_word2vec_title.save(\"../model/model_word2vec/model_word2vec_title.bin\")"
   ]
  },
  {
   "cell_type": "code",
   "execution_count": 4,
   "metadata": {},
   "outputs": [],
   "source": [
    "corpus_abstrct = [text.split() for text in data_tran[\"abstract_text\"]]\n",
    "model_word2vec_abstrct = Word2Vec(sentences=corpus_abstrct, vector_size=200, window=5, min_count=1, workers=6, sg=1, epochs=100)\n",
    "model_word2vec_abstrct.save(\"../model/model_word2vec/model_word2vec_abstract.bin\")"
   ]
  },
  {
   "cell_type": "markdown",
   "metadata": {},
   "source": [
    "### 2. Load Model"
   ]
  },
  {
   "cell_type": "code",
   "execution_count": 5,
   "metadata": {},
   "outputs": [],
   "source": [
    "model_word2vec_title = Word2Vec.load(\"../model/model_word2vec/model_word2vec_title.bin\")\n",
    "model_word2vec_abstrct = Word2Vec.load(\"../model/model_word2vec/model_word2vec_abstract.bin\")\n",
    "\n",
    "x_tran_title_word_vectors = {word: model_word2vec_title.wv[word] for word in model_word2vec_title.wv.index_to_key}\n",
    "x_tran_abstract_word_vectors = {word: model_word2vec_abstrct.wv[word] for word in model_word2vec_abstrct.wv.index_to_key}"
   ]
  },
  {
   "cell_type": "markdown",
   "metadata": {},
   "source": [
    "### 3. Word Embeddings"
   ]
  },
  {
   "cell_type": "code",
   "execution_count": 6,
   "metadata": {},
   "outputs": [],
   "source": [
    "import json\n",
    "\n",
    "x_tran_title_word_vectors_json = {word: vector.tolist() for word, vector in x_tran_title_word_vectors.items()}\n",
    "x_tran_abstract_word_vectors_json = {word: vector.tolist() for word, vector in x_tran_abstract_word_vectors.items()}\n",
    "\n",
    "with open(\"../data/data2/x_tran_title_word_vectors.json\", \"w\") as f:\n",
    "    json.dump(x_tran_title_word_vectors_json, f)\n",
    "\n",
    "with open(\"../data/data2/x_tran_abstract_word_vectors.json\", \"w\") as f:\n",
    "    json.dump(x_tran_abstract_word_vectors_json, f)"
   ]
  }
 ],
 "metadata": {
  "kernelspec": {
   "display_name": "base",
   "language": "python",
   "name": "python3"
  },
  "language_info": {
   "codemirror_mode": {
    "name": "ipython",
    "version": 3
   },
   "file_extension": ".py",
   "mimetype": "text/x-python",
   "name": "python",
   "nbconvert_exporter": "python",
   "pygments_lexer": "ipython3",
   "version": "3.12.3"
  }
 },
 "nbformat": 4,
 "nbformat_minor": 4
}
