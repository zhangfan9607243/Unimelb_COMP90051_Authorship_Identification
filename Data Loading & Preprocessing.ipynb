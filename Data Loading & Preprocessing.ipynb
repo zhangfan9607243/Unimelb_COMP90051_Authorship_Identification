{
 "cells": [
  {
   "cell_type": "markdown",
   "metadata": {},
   "source": [
    "# Authorship Identification"
   ]
  },
  {
   "cell_type": "markdown",
   "metadata": {},
   "source": [
    "## Section 1: Data Loading & Preprocessing"
   ]
  },
  {
   "cell_type": "code",
   "execution_count": 1,
   "metadata": {},
   "outputs": [],
   "source": [
    "import numpy as np\n",
    "import pandas as pd\n",
    "import math"
   ]
  },
  {
   "cell_type": "markdown",
   "metadata": {},
   "source": [
    "### 1. Load Data from JSON Files"
   ]
  },
  {
   "cell_type": "code",
   "execution_count": 2,
   "metadata": {},
   "outputs": [],
   "source": [
    "data_tran = pd.read_json(\"/root/COMP90051/data1/train.json\")\n",
    "data_test = pd.read_json(\"/root/COMP90051/data1/test.json\")"
   ]
  },
  {
   "cell_type": "markdown",
   "metadata": {},
   "source": [
    "### 2. Data Preprocessing"
   ]
  },
  {
   "cell_type": "markdown",
   "metadata": {},
   "source": [
    "#### 2.1 Create the 'coauthors' column in training data"
   ]
  },
  {
   "cell_type": "code",
   "execution_count": 3,
   "metadata": {},
   "outputs": [],
   "source": [
    "data_tran['author']    = data_tran['authors'].apply(lambda x: [a for a in x if 0 <= a < 100])\n",
    "data_tran['coauthors'] = data_tran['authors'].apply(lambda x: [a for a in x if a >= 100])\n",
    "data_tran['author']    = data_tran['author'].apply(lambda x: x if x else [-1])"
   ]
  },
  {
   "cell_type": "markdown",
   "metadata": {},
   "source": [
    "#### 2.2 Create the string format of title & abstract"
   ]
  },
  {
   "cell_type": "code",
   "execution_count": 4,
   "metadata": {},
   "outputs": [],
   "source": [
    "def list_to_string(lst):\n",
    "    return ' '.join(map(str, lst))"
   ]
  },
  {
   "cell_type": "code",
   "execution_count": 5,
   "metadata": {},
   "outputs": [],
   "source": [
    "data_tran['title_text'] = data_tran['title'].apply(list_to_string)\n",
    "data_test['title_text'] = data_test['title'].apply(list_to_string)\n",
    "\n",
    "data_tran['abstract_text'] = data_tran['abstract'].apply(list_to_string)\n",
    "data_test['abstract_text'] = data_test['abstract'].apply(list_to_string)"
   ]
  },
  {
   "cell_type": "markdown",
   "metadata": {},
   "source": [
    "#### 2.3 Create the 'text' column in training and testing data, which is the string format that merges the title and abstract"
   ]
  },
  {
   "cell_type": "code",
   "execution_count": 6,
   "metadata": {},
   "outputs": [],
   "source": [
    "data_tran['text'] = (data_tran['title'].apply(list_to_string) + ' ' + data_tran['abstract'].apply(list_to_string))\n",
    "data_test['text'] = (data_test['title'].apply(list_to_string) + ' ' + data_test['abstract'].apply(list_to_string))"
   ]
  },
  {
   "cell_type": "markdown",
   "metadata": {},
   "source": [
    "#### 2.4 Fill NA in venue"
   ]
  },
  {
   "cell_type": "code",
   "execution_count": 7,
   "metadata": {},
   "outputs": [
    {
     "name": "stderr",
     "output_type": "stream",
     "text": [
      "/tmp/ipykernel_217116/567481817.py:1: FutureWarning: Downcasting behavior in `replace` is deprecated and will be removed in a future version. To retain the old behavior, explicitly call `result.infer_objects(copy=False)`. To opt-in to the future behavior, set `pd.set_option('future.no_silent_downcasting', True)`\n",
      "  data_tran['venue'] = data_tran['venue'].replace('', 465).fillna(465).infer_objects(copy=False)\n",
      "/tmp/ipykernel_217116/567481817.py:2: FutureWarning: Downcasting behavior in `replace` is deprecated and will be removed in a future version. To retain the old behavior, explicitly call `result.infer_objects(copy=False)`. To opt-in to the future behavior, set `pd.set_option('future.no_silent_downcasting', True)`\n",
      "  data_test['venue'] = data_test['venue'].replace('', 465).fillna(465).infer_objects(copy=False)\n"
     ]
    }
   ],
   "source": [
    "data_tran['venue'] = data_tran['venue'].replace('', 465).fillna(465).infer_objects(copy=False)\n",
    "data_test['venue'] = data_test['venue'].replace('', 465).fillna(465).infer_objects(copy=False)"
   ]
  },
  {
   "cell_type": "markdown",
   "metadata": {},
   "source": [
    "#### 2.5 Reduce the training data since many data in training data dose not have main author"
   ]
  },
  {
   "cell_type": "code",
   "execution_count": 8,
   "metadata": {},
   "outputs": [],
   "source": [
    "def reduce_data_in_author(data_tran, target_count=1000):\n",
    "    \n",
    "    # 找到 'authors' 列为 [-1] 的所有行\n",
    "    negative_rows = data_tran[data_tran['author'].apply(lambda x: x == [-1])]\n",
    "\n",
    "    # 如果负样本数量超过目标数量，则随机保留 target_count 个样本\n",
    "    if len(negative_rows) > target_count:\n",
    "        negative_rows = negative_rows.sample(n=target_count, random_state=42)\n",
    "\n",
    "    # 过滤掉所有 [-1] 的行，并添加保留的部分回原 DataFrame\n",
    "    remaining_rows = data_tran[data_tran['author'].apply(lambda x: x != [-1])]\n",
    "    final_data_tran = pd.concat([remaining_rows, negative_rows], axis=0)\n",
    "\n",
    "    # 重置索引\n",
    "    return final_data_tran.reset_index(drop=True)\n"
   ]
  },
  {
   "cell_type": "code",
   "execution_count": 9,
   "metadata": {},
   "outputs": [],
   "source": [
    "data_tran = reduce_data_in_author(data_tran)"
   ]
  },
  {
   "cell_type": "markdown",
   "metadata": {},
   "source": [
    "### 3. Present the Preprocessed Data"
   ]
  },
  {
   "cell_type": "markdown",
   "metadata": {},
   "source": [
    "#### 3.1 Present Training Data"
   ]
  },
  {
   "cell_type": "code",
   "execution_count": 10,
   "metadata": {},
   "outputs": [
    {
     "data": {
      "text/html": [
       "<div>\n",
       "<style scoped>\n",
       "    .dataframe tbody tr th:only-of-type {\n",
       "        vertical-align: middle;\n",
       "    }\n",
       "\n",
       "    .dataframe tbody tr th {\n",
       "        vertical-align: top;\n",
       "    }\n",
       "\n",
       "    .dataframe thead th {\n",
       "        text-align: right;\n",
       "    }\n",
       "</style>\n",
       "<table border=\"1\" class=\"dataframe\">\n",
       "  <thead>\n",
       "    <tr style=\"text-align: right;\">\n",
       "      <th></th>\n",
       "      <th>authors</th>\n",
       "      <th>year</th>\n",
       "      <th>abstract</th>\n",
       "      <th>venue</th>\n",
       "      <th>title</th>\n",
       "      <th>author</th>\n",
       "      <th>coauthors</th>\n",
       "      <th>title_text</th>\n",
       "      <th>abstract_text</th>\n",
       "      <th>text</th>\n",
       "    </tr>\n",
       "  </thead>\n",
       "  <tbody>\n",
       "    <tr>\n",
       "      <th>0</th>\n",
       "      <td>[42, 13720, 36]</td>\n",
       "      <td>9</td>\n",
       "      <td>[2455, 1858, 2335, 1543, 1800, 1860, 2000, 286...</td>\n",
       "      <td>20</td>\n",
       "      <td>[41, 1550, 1563, 1594, 1544, 1919, 1644, 37, 1...</td>\n",
       "      <td>[42, 36]</td>\n",
       "      <td>[13720]</td>\n",
       "      <td>41 1550 1563 1594 1544 1919 1644 37 1539 1715 ...</td>\n",
       "      <td>2455 1858 2335 1543 1800 1860 2000 2867 1546 1...</td>\n",
       "      <td>41 1550 1563 1594 1544 1919 1644 37 1539 1715 ...</td>\n",
       "    </tr>\n",
       "    <tr>\n",
       "      <th>1</th>\n",
       "      <td>[1359, 15881, 45]</td>\n",
       "      <td>15</td>\n",
       "      <td>[40, 1542, 1691, 2449, 1535, 3616, 2206, 1904,...</td>\n",
       "      <td>2</td>\n",
       "      <td>[1731, 47, 11, 57, 4624, 1525, 1535, 47, 11, 3...</td>\n",
       "      <td>[45]</td>\n",
       "      <td>[1359, 15881]</td>\n",
       "      <td>1731 47 11 57 4624 1525 1535 47 11 3522 2223 1653</td>\n",
       "      <td>40 1542 1691 2449 1535 3616 2206 1904 1642 154...</td>\n",
       "      <td>1731 47 11 57 4624 1525 1535 47 11 3522 2223 1...</td>\n",
       "    </tr>\n",
       "    <tr>\n",
       "      <th>2</th>\n",
       "      <td>[97]</td>\n",
       "      <td>10</td>\n",
       "      <td>[46, 1624, 1547, 56, 1687, 1644, 6, 7, 3386, 1...</td>\n",
       "      <td>4</td>\n",
       "      <td>[40, 1733, 1735, 1540, 1655, 46, 1624, 1547, 5...</td>\n",
       "      <td>[97]</td>\n",
       "      <td>[]</td>\n",
       "      <td>40 1733 1735 1540 1655 46 1624 1547 56 1687 16...</td>\n",
       "      <td>46 1624 1547 56 1687 1644 6 7 3386 1542 2654 1...</td>\n",
       "      <td>40 1733 1735 1540 1655 46 1624 1547 56 1687 16...</td>\n",
       "    </tr>\n",
       "    <tr>\n",
       "      <th>3</th>\n",
       "      <td>[19617, 2]</td>\n",
       "      <td>10</td>\n",
       "      <td>[37, 3709, 3836, 1586, 2151, 1727, 3021, 1860,...</td>\n",
       "      <td>9</td>\n",
       "      <td>[38, 1592, 2088, 1543, 1574, 1727, 1597, 1813,...</td>\n",
       "      <td>[2]</td>\n",
       "      <td>[19617]</td>\n",
       "      <td>38 1592 2088 1543 1574 1727 1597 1813 1926 152...</td>\n",
       "      <td>37 3709 3836 1586 2151 1727 3021 1860 1527 181...</td>\n",
       "      <td>38 1592 2088 1543 1574 1727 1597 1813 1926 152...</td>\n",
       "    </tr>\n",
       "    <tr>\n",
       "      <th>4</th>\n",
       "      <td>[9641, 44, 5623, 2]</td>\n",
       "      <td>18</td>\n",
       "      <td>[1731, 2021, 1543, 11, 1546, 11, 1647, 2163, 1...</td>\n",
       "      <td>0</td>\n",
       "      <td>[1560, 1694, 11, 1546, 11, 3066, 1728, 47, 160...</td>\n",
       "      <td>[44, 2]</td>\n",
       "      <td>[9641, 5623]</td>\n",
       "      <td>1560 1694 11 1546 11 3066 1728 47 1603 1553 11...</td>\n",
       "      <td>1731 2021 1543 11 1546 11 1647 2163 1542 1546 ...</td>\n",
       "      <td>1560 1694 11 1546 11 3066 1728 47 1603 1553 11...</td>\n",
       "    </tr>\n",
       "  </tbody>\n",
       "</table>\n",
       "</div>"
      ],
      "text/plain": [
       "               authors  year  \\\n",
       "0      [42, 13720, 36]     9   \n",
       "1    [1359, 15881, 45]    15   \n",
       "2                 [97]    10   \n",
       "3           [19617, 2]    10   \n",
       "4  [9641, 44, 5623, 2]    18   \n",
       "\n",
       "                                            abstract  venue  \\\n",
       "0  [2455, 1858, 2335, 1543, 1800, 1860, 2000, 286...     20   \n",
       "1  [40, 1542, 1691, 2449, 1535, 3616, 2206, 1904,...      2   \n",
       "2  [46, 1624, 1547, 56, 1687, 1644, 6, 7, 3386, 1...      4   \n",
       "3  [37, 3709, 3836, 1586, 2151, 1727, 3021, 1860,...      9   \n",
       "4  [1731, 2021, 1543, 11, 1546, 11, 1647, 2163, 1...      0   \n",
       "\n",
       "                                               title    author      coauthors  \\\n",
       "0  [41, 1550, 1563, 1594, 1544, 1919, 1644, 37, 1...  [42, 36]        [13720]   \n",
       "1  [1731, 47, 11, 57, 4624, 1525, 1535, 47, 11, 3...      [45]  [1359, 15881]   \n",
       "2  [40, 1733, 1735, 1540, 1655, 46, 1624, 1547, 5...      [97]             []   \n",
       "3  [38, 1592, 2088, 1543, 1574, 1727, 1597, 1813,...       [2]        [19617]   \n",
       "4  [1560, 1694, 11, 1546, 11, 3066, 1728, 47, 160...   [44, 2]   [9641, 5623]   \n",
       "\n",
       "                                          title_text  \\\n",
       "0  41 1550 1563 1594 1544 1919 1644 37 1539 1715 ...   \n",
       "1  1731 47 11 57 4624 1525 1535 47 11 3522 2223 1653   \n",
       "2  40 1733 1735 1540 1655 46 1624 1547 56 1687 16...   \n",
       "3  38 1592 2088 1543 1574 1727 1597 1813 1926 152...   \n",
       "4  1560 1694 11 1546 11 3066 1728 47 1603 1553 11...   \n",
       "\n",
       "                                       abstract_text  \\\n",
       "0  2455 1858 2335 1543 1800 1860 2000 2867 1546 1...   \n",
       "1  40 1542 1691 2449 1535 3616 2206 1904 1642 154...   \n",
       "2  46 1624 1547 56 1687 1644 6 7 3386 1542 2654 1...   \n",
       "3  37 3709 3836 1586 2151 1727 3021 1860 1527 181...   \n",
       "4  1731 2021 1543 11 1546 11 1647 2163 1542 1546 ...   \n",
       "\n",
       "                                                text  \n",
       "0  41 1550 1563 1594 1544 1919 1644 37 1539 1715 ...  \n",
       "1  1731 47 11 57 4624 1525 1535 47 11 3522 2223 1...  \n",
       "2  40 1733 1735 1540 1655 46 1624 1547 56 1687 16...  \n",
       "3  38 1592 2088 1543 1574 1727 1597 1813 1926 152...  \n",
       "4  1560 1694 11 1546 11 3066 1728 47 1603 1553 11...  "
      ]
     },
     "execution_count": 10,
     "metadata": {},
     "output_type": "execute_result"
    }
   ],
   "source": [
    "data_tran.head(5)"
   ]
  },
  {
   "cell_type": "markdown",
   "metadata": {},
   "source": [
    "#### 3.1 Present Testing Data"
   ]
  },
  {
   "cell_type": "code",
   "execution_count": 11,
   "metadata": {},
   "outputs": [
    {
     "data": {
      "text/html": [
       "<div>\n",
       "<style scoped>\n",
       "    .dataframe tbody tr th:only-of-type {\n",
       "        vertical-align: middle;\n",
       "    }\n",
       "\n",
       "    .dataframe tbody tr th {\n",
       "        vertical-align: top;\n",
       "    }\n",
       "\n",
       "    .dataframe thead th {\n",
       "        text-align: right;\n",
       "    }\n",
       "</style>\n",
       "<table border=\"1\" class=\"dataframe\">\n",
       "  <thead>\n",
       "    <tr style=\"text-align: right;\">\n",
       "      <th></th>\n",
       "      <th>identifier</th>\n",
       "      <th>coauthors</th>\n",
       "      <th>year</th>\n",
       "      <th>abstract</th>\n",
       "      <th>venue</th>\n",
       "      <th>title</th>\n",
       "      <th>title_text</th>\n",
       "      <th>abstract_text</th>\n",
       "      <th>text</th>\n",
       "    </tr>\n",
       "  </thead>\n",
       "  <tbody>\n",
       "    <tr>\n",
       "      <th>0</th>\n",
       "      <td>0</td>\n",
       "      <td>[16336, 1762, 4357, 12564]</td>\n",
       "      <td>19</td>\n",
       "      <td>[37, 1662, 3207, 10, 33, 2037, 1738, 1642, 155...</td>\n",
       "      <td>223</td>\n",
       "      <td>[3207, 24, 1798, 1738, 37, 2375, 1568, 11, 53,...</td>\n",
       "      <td>3207 24 1798 1738 37 2375 1568 11 53 1584 1903...</td>\n",
       "      <td>37 1662 3207 10 33 2037 1738 1642 1553 4917 11...</td>\n",
       "      <td>3207 24 1798 1738 37 2375 1568 11 53 1584 1903...</td>\n",
       "    </tr>\n",
       "    <tr>\n",
       "      <th>1</th>\n",
       "      <td>1</td>\n",
       "      <td>[21189, 14088]</td>\n",
       "      <td>19</td>\n",
       "      <td>[1731, 2130, 3674, 1705, 1656, 3077, 1546, 367...</td>\n",
       "      <td>223</td>\n",
       "      <td>[40, 1560, 1536, 1544, 1609, 1705, 1658, 1543,...</td>\n",
       "      <td>40 1560 1536 1544 1609 1705 1658 1543 52 11 33...</td>\n",
       "      <td>1731 2130 3674 1705 1656 3077 1546 3675 2051 2...</td>\n",
       "      <td>40 1560 1536 1544 1609 1705 1658 1543 52 11 33...</td>\n",
       "    </tr>\n",
       "    <tr>\n",
       "      <th>2</th>\n",
       "      <td>2</td>\n",
       "      <td>[3625, 1198, 19889, 794, 2749, 7801]</td>\n",
       "      <td>19</td>\n",
       "      <td>[1551, 1728, 3920, 1542, 1535, 1656, 1543, 153...</td>\n",
       "      <td>7</td>\n",
       "      <td>[47, 1574, 1729, 1641, 11, 37, 2533, 2015, 47,...</td>\n",
       "      <td>47 1574 1729 1641 11 37 2533 2015 47 1930 1549...</td>\n",
       "      <td>1551 1728 3920 1542 1535 1656 1543 1530 3053 2...</td>\n",
       "      <td>47 1574 1729 1641 11 37 2533 2015 47 1930 1549...</td>\n",
       "    </tr>\n",
       "    <tr>\n",
       "      <th>3</th>\n",
       "      <td>3</td>\n",
       "      <td>[19810, 15173, 5876, 111]</td>\n",
       "      <td>19</td>\n",
       "      <td>[51, 1535, 2115, 1543, 1811, 1700, 1657, 1684,...</td>\n",
       "      <td>21</td>\n",
       "      <td>[1770, 53, 2054, 1549, 1529, 1723, 2796, 1547,...</td>\n",
       "      <td>1770 53 2054 1549 1529 1723 2796 1547 1543 47 ...</td>\n",
       "      <td>51 1535 2115 1543 1811 1700 1657 1684 1549 192...</td>\n",
       "      <td>1770 53 2054 1549 1529 1723 2796 1547 1543 47 ...</td>\n",
       "    </tr>\n",
       "    <tr>\n",
       "      <th>4</th>\n",
       "      <td>4</td>\n",
       "      <td>[10932, 7668, 11907, 19601, 15307, 10492, 1049...</td>\n",
       "      <td>19</td>\n",
       "      <td>[1775, 1746, 1842, 1525, 33, 2551, 1882, 1542,...</td>\n",
       "      <td>465</td>\n",
       "      <td>[18, 1924, 23, 1544, 3927, 2686, 1543, 1535, 1...</td>\n",
       "      <td>18 1924 23 1544 3927 2686 1543 1535 1660 1548 ...</td>\n",
       "      <td>1775 1746 1842 1525 33 2551 1882 1542 33 2548 ...</td>\n",
       "      <td>18 1924 23 1544 3927 2686 1543 1535 1660 1548 ...</td>\n",
       "    </tr>\n",
       "  </tbody>\n",
       "</table>\n",
       "</div>"
      ],
      "text/plain": [
       "   identifier                                          coauthors  year  \\\n",
       "0           0                         [16336, 1762, 4357, 12564]    19   \n",
       "1           1                                     [21189, 14088]    19   \n",
       "2           2               [3625, 1198, 19889, 794, 2749, 7801]    19   \n",
       "3           3                          [19810, 15173, 5876, 111]    19   \n",
       "4           4  [10932, 7668, 11907, 19601, 15307, 10492, 1049...    19   \n",
       "\n",
       "                                            abstract  venue  \\\n",
       "0  [37, 1662, 3207, 10, 33, 2037, 1738, 1642, 155...    223   \n",
       "1  [1731, 2130, 3674, 1705, 1656, 3077, 1546, 367...    223   \n",
       "2  [1551, 1728, 3920, 1542, 1535, 1656, 1543, 153...      7   \n",
       "3  [51, 1535, 2115, 1543, 1811, 1700, 1657, 1684,...     21   \n",
       "4  [1775, 1746, 1842, 1525, 33, 2551, 1882, 1542,...    465   \n",
       "\n",
       "                                               title  \\\n",
       "0  [3207, 24, 1798, 1738, 37, 2375, 1568, 11, 53,...   \n",
       "1  [40, 1560, 1536, 1544, 1609, 1705, 1658, 1543,...   \n",
       "2  [47, 1574, 1729, 1641, 11, 37, 2533, 2015, 47,...   \n",
       "3  [1770, 53, 2054, 1549, 1529, 1723, 2796, 1547,...   \n",
       "4  [18, 1924, 23, 1544, 3927, 2686, 1543, 1535, 1...   \n",
       "\n",
       "                                          title_text  \\\n",
       "0  3207 24 1798 1738 37 2375 1568 11 53 1584 1903...   \n",
       "1  40 1560 1536 1544 1609 1705 1658 1543 52 11 33...   \n",
       "2  47 1574 1729 1641 11 37 2533 2015 47 1930 1549...   \n",
       "3  1770 53 2054 1549 1529 1723 2796 1547 1543 47 ...   \n",
       "4  18 1924 23 1544 3927 2686 1543 1535 1660 1548 ...   \n",
       "\n",
       "                                       abstract_text  \\\n",
       "0  37 1662 3207 10 33 2037 1738 1642 1553 4917 11...   \n",
       "1  1731 2130 3674 1705 1656 3077 1546 3675 2051 2...   \n",
       "2  1551 1728 3920 1542 1535 1656 1543 1530 3053 2...   \n",
       "3  51 1535 2115 1543 1811 1700 1657 1684 1549 192...   \n",
       "4  1775 1746 1842 1525 33 2551 1882 1542 33 2548 ...   \n",
       "\n",
       "                                                text  \n",
       "0  3207 24 1798 1738 37 2375 1568 11 53 1584 1903...  \n",
       "1  40 1560 1536 1544 1609 1705 1658 1543 52 11 33...  \n",
       "2  47 1574 1729 1641 11 37 2533 2015 47 1930 1549...  \n",
       "3  1770 53 2054 1549 1529 1723 2796 1547 1543 47 ...  \n",
       "4  18 1924 23 1544 3927 2686 1543 1535 1660 1548 ...  "
      ]
     },
     "execution_count": 11,
     "metadata": {},
     "output_type": "execute_result"
    }
   ],
   "source": [
    "data_test.head(5)"
   ]
  },
  {
   "cell_type": "markdown",
   "metadata": {},
   "source": [
    "### 4. Save the Preprocessed Data"
   ]
  },
  {
   "cell_type": "markdown",
   "metadata": {},
   "source": [
    "#### 4.1 Save the training and testing data as json"
   ]
  },
  {
   "cell_type": "code",
   "execution_count": 12,
   "metadata": {},
   "outputs": [],
   "source": [
    "data_tran.to_json('data2/data_tran.json', orient='records', lines=True)\n",
    "data_test.to_json('data2/data_test.json', orient='records', lines=True)"
   ]
  },
  {
   "cell_type": "markdown",
   "metadata": {},
   "source": [
    "#### 4.2 Save the label in onehot as npy"
   ]
  },
  {
   "cell_type": "code",
   "execution_count": 13,
   "metadata": {},
   "outputs": [],
   "source": [
    "def process_label(data):\n",
    "    \n",
    "    n_author = 101  \n",
    "    threshold_author = 100  \n",
    "\n",
    "    author_list = np.zeros((len(data), n_author))\n",
    "\n",
    "    for i, authors in enumerate(data[\"authors\"]):\n",
    "        author_id = np.array(authors)[np.array(authors) < threshold_author]\n",
    "        \n",
    "        if len(author_id) == 0:\n",
    "            author_list[i, -1] = 1\n",
    "        else:\n",
    "            author_list[i, author_id] = 1\n",
    "\n",
    "    return author_list\n",
    "\n",
    "y_tran = process_label(data_tran)\n",
    "\n",
    "np.save('data2/y_tran.npy', y_tran)"
   ]
  }
 ],
 "metadata": {
  "kernelspec": {
   "display_name": "base",
   "language": "python",
   "name": "python3"
  },
  "language_info": {
   "codemirror_mode": {
    "name": "ipython",
    "version": 3
   },
   "file_extension": ".py",
   "mimetype": "text/x-python",
   "name": "python",
   "nbconvert_exporter": "python",
   "pygments_lexer": "ipython3",
   "version": "3.12.3"
  }
 },
 "nbformat": 4,
 "nbformat_minor": 4
}
