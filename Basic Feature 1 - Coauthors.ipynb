{
 "cells": [
  {
   "cell_type": "markdown",
   "metadata": {},
   "source": [
    "## Feature Engineering - Coauthors"
   ]
  },
  {
   "cell_type": "code",
   "execution_count": 1,
   "metadata": {},
   "outputs": [],
   "source": [
    "import numpy as np\n",
    "import pandas as pd\n",
    "import math\n",
    "import networkx as nx\n",
    "from itertools import combinations\n",
    "\n",
    "from joblib import Parallel, delayed\n",
    "from tqdm import *"
   ]
  },
  {
   "cell_type": "code",
   "execution_count": 2,
   "metadata": {},
   "outputs": [],
   "source": [
    "data_tran = pd.read_json('data2/data_tran.json', orient='records', lines=True)\n",
    "data_test = pd.read_json('data2/data_test.json', orient='records', lines=True)\n",
    "\n",
    "n_tran = data_tran.shape[0]\n",
    "n_test = data_test.shape[0]"
   ]
  },
  {
   "cell_type": "code",
   "execution_count": 3,
   "metadata": {},
   "outputs": [],
   "source": [
    "def get_coauthors_graph(data):\n",
    "\n",
    "    coauthors_graph = nx.Graph()\n",
    "\n",
    "    for authors in data['authors']:\n",
    "        for author_pair in combinations(authors, 2):\n",
    "            if coauthors_graph.has_edge(*author_pair):\n",
    "                coauthors_graph[author_pair[0]][author_pair[1]]['weight'] += 1\n",
    "            else:\n",
    "                coauthors_graph.add_edge(author_pair[0], author_pair[1], weight=1)\n",
    "    \n",
    "    return coauthors_graph\n",
    "\n",
    "coauthors_graph = get_coauthors_graph(data_tran)"
   ]
  },
  {
   "cell_type": "code",
   "execution_count": 4,
   "metadata": {},
   "outputs": [],
   "source": [
    "def get_coauthors_vector(graph, start_nodes):\n",
    "\n",
    "    node_array = np.zeros((1, 100)) \n",
    "\n",
    "    def dfs_iterative(graph, start_node):\n",
    "        \n",
    "        if start_node not in graph:\n",
    "            return\n",
    "        \n",
    "        stack = [(start_node, 1)] \n",
    "        visited = set() \n",
    "\n",
    "        while stack:\n",
    "            \n",
    "            node, depth = stack.pop()\n",
    "\n",
    "            if node in visited:\n",
    "                continue \n",
    "\n",
    "            visited.add(node)\n",
    "\n",
    "            for neighbor, edge in graph[node].items():\n",
    "                weight = edge['weight'] * (1 / (depth * math.log(depth + 1)))\n",
    "                if 0 <= neighbor < 100: \n",
    "                    node_array[0, neighbor] += weight \n",
    "                if neighbor not in visited:\n",
    "                    stack.append((neighbor, depth + 1)) \n",
    "\n",
    "    for start_node in start_nodes:\n",
    "        dfs_iterative(graph, start_node)\n",
    "\n",
    "    return node_array.reshape(1, 100)"
   ]
  },
  {
   "cell_type": "code",
   "execution_count": 5,
   "metadata": {},
   "outputs": [],
   "source": [
    "def get_coauthors_matrix(data, graph):\n",
    "    vectors_list = Parallel(n_jobs=-1)(delayed(get_coauthors_vector)(graph, row['coauthors']) for _, row in tqdm(data.iterrows(), total=len(data)))\n",
    "    return np.concatenate(vectors_list, axis=0)"
   ]
  },
  {
   "cell_type": "code",
   "execution_count": 6,
   "metadata": {},
   "outputs": [
    {
     "name": "stderr",
     "output_type": "stream",
     "text": [
      "100%|██████████| 8460/8460 [06:12<00:00, 22.71it/s]\n",
      "100%|██████████| 800/800 [00:30<00:00, 25.81it/s]\n"
     ]
    }
   ],
   "source": [
    "x_tran_coauthors = get_coauthors_matrix(data_tran, coauthors_graph)\n",
    "x_test_coauthors = get_coauthors_matrix(data_test, coauthors_graph)\n",
    "\n",
    "np.save('data2/x_tran_coauthors.npy', x_tran_coauthors)\n",
    "np.save('data2/x_test_coauthors.npy', x_test_coauthors)"
   ]
  }
 ],
 "metadata": {
  "kernelspec": {
   "display_name": "base",
   "language": "python",
   "name": "python3"
  },
  "language_info": {
   "codemirror_mode": {
    "name": "ipython",
    "version": 3
   },
   "file_extension": ".py",
   "mimetype": "text/x-python",
   "name": "python",
   "nbconvert_exporter": "python",
   "pygments_lexer": "ipython3",
   "version": "3.12.3"
  }
 },
 "nbformat": 4,
 "nbformat_minor": 4
}
