{
 "cells": [
  {
   "cell_type": "markdown",
   "metadata": {},
   "source": [
    "# Authorship Identification"
   ]
  },
  {
   "cell_type": "markdown",
   "metadata": {},
   "source": [
    "## Section 4.3: Method 3 - Basic Features & Word2Vec + FNN & RNN"
   ]
  },
  {
   "cell_type": "markdown",
   "metadata": {},
   "source": [
    "### 1. Dataset & Data Loader"
   ]
  },
  {
   "cell_type": "code",
   "execution_count": null,
   "metadata": {},
   "outputs": [],
   "source": [
    "import numpy as np\n",
    "import pandas as pd\n",
    "\n",
    "data_tran = pd.read_json('../data/data2/data_tran.json', orient='records', lines=True)\n",
    "data_test = pd.read_json('../data/data2/data_test.json', orient='records', lines=True)\n",
    "\n",
    "n_tran = data_tran.shape[0]\n",
    "n_test = data_test.shape[0]\n",
    "\n",
    "x_tran_coauthors = np.load(\"../data/data2/x_tran_coauthors.npy\")\n",
    "x_tran_venue_a   = np.load(\"../data/data2/x_tran_venue_a.npy\")\n",
    "x_tran_venue_b   = np.load(\"../data/data2/x_tran_venue_b.npy\")\n",
    "x_tran_text_a    = np.load(\"../data/data2/x_tran_text_a.npy\")\n",
    "x_tran_text_b    = np.load(\"../data/data2/x_tran_text_b.npy\")\n",
    "\n",
    "x_test_coauthors = np.load(\"../data/data2/x_test_coauthors.npy\")\n",
    "x_test_venue_a   = np.load(\"../data/data2/x_test_venue_a.npy\")\n",
    "x_test_venue_b   = np.load(\"../data/data2/x_test_venue_b.npy\")\n",
    "x_test_text_a    = np.load(\"../data/data2/x_test_text_a.npy\")\n",
    "x_test_text_b    = np.load(\"../data/data2/x_test_text_b.npy\")\n",
    "\n",
    "x_tran_title_doc2vec = np.load('../data/data2/x_tran_title_doc2vec.npy')\n",
    "x_test_title_doc2vec = np.load('../data/data2/x_test_title_doc2vec.npy')\n",
    "\n",
    "x_tran_abstract_doc2vec = np.load('../data/data2/x_tran_abstract_doc2vec.npy')\n",
    "x_test_abstract_doc2vec = np.load('../data/data2/x_test_abstract_doc2vec.npy')\n",
    "\n",
    "y_tran_basic = np.load(\"../data/data2/y_tran.npy\")\n",
    "x_tran_basic = np.concatenate((x_tran_coauthors, x_tran_venue_a, x_tran_venue_b, x_tran_text_a, x_tran_text_b), axis=1)\n",
    "x_test_basic = np.concatenate((x_test_coauthors, x_test_venue_a, x_test_venue_b, x_test_text_a, x_test_text_b), axis=1)"
   ]
  },
  {
   "cell_type": "code",
   "execution_count": null,
   "metadata": {},
   "outputs": [],
   "source": [
    "import torch\n",
    "\n",
    "device = torch.device('cuda' if torch.cuda.is_available() else 'cpu')\n",
    "\n",
    "idxs = np.random.permutation(n_tran)\n",
    "inxs_prop = int(0.85 * n_tran)\n",
    "idxs_tran_indices = idxs[:inxs_prop]\n",
    "idxs_vald_indices = idxs[inxs_prop:]\n",
    "\n",
    "x_tran_a = torch.tensor(x_tran_basic[idxs_tran_indices], dtype=torch.float32).to(device)\n",
    "x_vald_a = torch.tensor(x_tran_basic[idxs_vald_indices], dtype=torch.float32).to(device)\n",
    "x_test_a = torch.tensor(x_test_basic, dtype=torch.float32).to(device)\n",
    "\n",
    "y_tran   = torch.tensor(y_tran_basic[idxs_tran_indices], dtype=torch.float32).to(device)\n",
    "y_vald   = torch.tensor(y_tran_basic[idxs_vald_indices], dtype=torch.float32).to(device)\n",
    "y_test   = torch.zeros((x_test_a.shape[0], y_tran.shape[1]), dtype=torch.float32)\n",
    "\n",
    "data_tran_new = data_tran.iloc[idxs_tran_indices].reset_index(drop=True)\n",
    "data_vald_new = data_tran.iloc[idxs_vald_indices].reset_index(drop=True)\n",
    "data_test_new = data_test"
   ]
  },
  {
   "cell_type": "code",
   "execution_count": null,
   "metadata": {},
   "outputs": [],
   "source": [
    "import json\n",
    "\n",
    "with open(\"../data/data2/x_tran_title_word_vectors.json\", \"r\") as f:\n",
    "    word_vectors_dict_title = json.load(f)\n",
    "\n",
    "with open(\"../data/data2/x_tran_abstract_word_vectors.json\", \"r\") as f:\n",
    "    word_vectors_dict_abstract = json.load(f)\n",
    "\n",
    "word_vectors_dict_title    = {word: np.array(vector) for word, vector in word_vectors_dict_title.items()}\n",
    "word_vectors_dict_abstract = {word: np.array(vector) for word, vector in word_vectors_dict_abstract.items()}"
   ]
  },
  {
   "cell_type": "code",
   "execution_count": null,
   "metadata": {},
   "outputs": [],
   "source": [
    "import torch\n",
    "import torch.nn as nn\n",
    "import torch.optim as optim\n",
    "from torch.utils.data import DataLoader, Dataset\n",
    "\n",
    "class ModelDataset(Dataset):\n",
    "    def __init__(self, x1, y, data, word_vectors_dict_title, word_vectors_dict_abstract):\n",
    "        self.x1 = x1\n",
    "        self.y = y\n",
    "        self.data = data\n",
    "        self.word_vectors_dict_title = word_vectors_dict_title\n",
    "        self.word_vectors_dict_abstract = word_vectors_dict_abstract\n",
    "\n",
    "        self.max_title_len = self.get_max_length(data['title_text'])\n",
    "        self.max_abstract_len = self.get_max_length(data['abstract_text'])\n",
    "\n",
    "    def __len__(self):\n",
    "        return len(self.data)\n",
    "\n",
    "    def get_max_length(self, texts):\n",
    "        return max(len(text.split()) for text in texts)\n",
    "\n",
    "    def text_to_vector(self, text, word_vectors_dict, max_len):\n",
    "        vectors = [word_vectors_dict.get(word, np.zeros_like(next(iter(word_vectors_dict.values())))) for word in text.split()]\n",
    "        vectors = vectors[:max_len] + [np.zeros_like(vectors[0])] * (max_len - len(vectors))\n",
    "        return torch.tensor(vectors, dtype=torch.float32) \n",
    "\n",
    "    def __getitem__(self, idx):\n",
    "        x1 = self.x1[idx].clone().detach().float()\n",
    "        \n",
    "        x2 = self.text_to_vector(self.data.iloc[idx]['title_text'], \n",
    "                                 self.word_vectors_dict_title, \n",
    "                                 max_len = 20).to(device)\n",
    "        x3 = self.text_to_vector(self.data.iloc[idx]['abstract_text'], \n",
    "                                 self.word_vectors_dict_abstract, \n",
    "                                 max_len = 200).to(device)\n",
    "\n",
    "        y = self.y[idx].clone().detach().float()\n",
    "\n",
    "        return x1, x2, x3, y"
   ]
  },
  {
   "cell_type": "code",
   "execution_count": null,
   "metadata": {},
   "outputs": [],
   "source": [
    "dataset_tran = ModelDataset(x_tran_a, y_tran, data_tran_new, word_vectors_dict_title, word_vectors_dict_abstract)\n",
    "dataset_vald = ModelDataset(x_vald_a, y_vald, data_vald_new, word_vectors_dict_title, word_vectors_dict_abstract)\n",
    "dataset_test = ModelDataset(x_test_a, y_test, data_test_new, word_vectors_dict_title, word_vectors_dict_abstract)\n",
    "\n",
    "datalod_tran = DataLoader(dataset_tran, batch_size=128)\n",
    "datalod_vald = DataLoader(dataset_vald, batch_size=128)\n",
    "datalod_test = DataLoader(dataset_test, batch_size=128)"
   ]
  },
  {
   "cell_type": "markdown",
   "metadata": {},
   "source": [
    "### 2. Model Structure"
   ]
  },
  {
   "cell_type": "code",
   "execution_count": null,
   "metadata": {},
   "outputs": [],
   "source": [
    "class FNNLSTM(nn.Module):\n",
    "    def __init__(self, input_dim1, output_dim):\n",
    "        super(FNNLSTM, self).__init__()\n",
    "\n",
    "        self.lstm_t = nn.LSTM(input_size=100, hidden_size=50,  batch_first=True)\n",
    "        self.lstm_a = nn.LSTM(input_size=200, hidden_size=100, batch_first=True)\n",
    "\n",
    "        self.fnn = nn.Sequential(\n",
    "            nn.Linear(input_dim1 + 50 + 100, output_dim),\n",
    "            nn.Sigmoid()\n",
    "        )\n",
    "\n",
    "    def forward(self, x1, x2, x3):\n",
    "        if len(x1.shape) == 1:\n",
    "            x1 = x1.unsqueeze(0)\n",
    "            x2 = x2.unsqueeze(0)\n",
    "            x3 = x3.unsqueeze(0)\n",
    "\n",
    "        x2_out, (x2_hidden, x2_cell) = self.lstm_t(x2)\n",
    "        x2_out_last = x2_out[:, -1, :]\n",
    "\n",
    "        x3_out, (x3_hidden, x3_cell) = self.lstm_a(x3)\n",
    "        x3_out_last = x3_out[:, -1, :]\n",
    "\n",
    "        x = torch.cat([x1, x2_out_last, x3_out_last], dim=1)\n",
    "\n",
    "        x = self.fnn(x)\n",
    "\n",
    "        return x"
   ]
  },
  {
   "cell_type": "markdown",
   "metadata": {},
   "source": [
    "### 3. Model Training"
   ]
  },
  {
   "cell_type": "code",
   "execution_count": null,
   "metadata": {},
   "outputs": [],
   "source": [
    "input_dim1 = x_tran_a.shape[1]\n",
    "output_dim = y_tran.shape[1] \n",
    "\n",
    "model = FNNLSTM(input_dim1, output_dim).to(device)\n",
    "criterion = nn.BCELoss() \n",
    "optimizer = optim.Adam(model.parameters(), lr=0.00001, weight_decay=0.00001)"
   ]
  },
  {
   "cell_type": "code",
   "execution_count": null,
   "metadata": {},
   "outputs": [],
   "source": [
    "from sklearn.metrics import precision_score, recall_score, f1_score\n",
    "\n",
    "def calculate_metrics(pred_label, true_label):\n",
    "    pred_label = pred_label.int()\n",
    "    true_label = true_label.int()\n",
    "    pc = precision_score(true_label.cpu(), pred_label.cpu(), average='macro', zero_division=0)\n",
    "    rc = recall_score(true_label.cpu(), pred_label.cpu(), average='macro', zero_division=0)\n",
    "    f1 = f1_score(true_label.cpu(), pred_label.cpu(), average='macro', zero_division=0)\n",
    "    return pc, rc, f1"
   ]
  },
  {
   "cell_type": "code",
   "execution_count": null,
   "metadata": {},
   "outputs": [],
   "source": [
    "class EarlyStopping:\n",
    "    def __init__(self, patience=10, delta=0.001):\n",
    "        self.patience = patience\n",
    "        self.delta = delta\n",
    "        self.best_loss = None\n",
    "        self.counter = 0\n",
    "        self.early_stop = False\n",
    "\n",
    "    def __call__(self, train_loss):\n",
    "        if self.best_loss is None or train_loss < self.best_loss - self.delta:\n",
    "            self.best_loss = train_loss\n",
    "            self.counter = 0\n",
    "        else:\n",
    "            self.counter += 1\n",
    "            if self.counter >= self.patience:\n",
    "                self.early_stop = True\n",
    "\n",
    "early_stopping = EarlyStopping(patience=10, delta=0.001)"
   ]
  },
  {
   "cell_type": "code",
   "execution_count": null,
   "metadata": {},
   "outputs": [],
   "source": [
    "epochs = 5000\n",
    "\n",
    "for epoch in range(epochs):\n",
    "    model.train()  \n",
    "    total_loss = 0  \n",
    "\n",
    "    for batch in datalod_tran:\n",
    "        x1, x2, x3, y = [t.to(device) for t in batch]\n",
    "\n",
    "        outputs = model(x1, x2, x3)\n",
    "        loss = criterion(outputs, y)\n",
    "\n",
    "        optimizer.zero_grad()\n",
    "        loss.backward()\n",
    "        optimizer.step()\n",
    "\n",
    "        total_loss += loss.item()\n",
    "\n",
    "    avg_loss = total_loss / len(datalod_tran)\n",
    "\n",
    "    if (epoch + 1) % 100 == 0:\n",
    "        model.eval()\n",
    "        y_tran_pred_prob, y_vald_pred_prob = [], []\n",
    "        y_tran_true_labl, y_vald_true_labl = [], []\n",
    "\n",
    "        with torch.no_grad():\n",
    "            for batch in datalod_tran:\n",
    "                x1_tran, x2_tran, x3_tran, y_tran = [t.to(device) for t in batch]\n",
    "                y_tran_pred_prob.append(model(x1_tran, x2_tran, x3_tran).cpu())\n",
    "                y_tran_true_labl.append(y_tran.cpu())\n",
    "\n",
    "            y_tran_pred_prob = torch.cat(y_tran_pred_prob, dim=0)\n",
    "            y_tran_pred_labl = (y_tran_pred_prob > 0.5).int()\n",
    "            y_tran_true_labl = torch.cat(y_tran_true_labl, dim=0)\n",
    "\n",
    "            for batch in datalod_vald:\n",
    "                x1_vald, x2_vald, x3_vald, y_vald = [t.to(device) for t in batch]\n",
    "                y_vald_pred_prob.append(model(x1_vald, x2_vald, x3_vald).cpu())\n",
    "                y_vald_true_labl.append(y_vald.cpu())\n",
    "\n",
    "            y_vald_pred_prob = torch.cat(y_vald_pred_prob, dim=0)\n",
    "            y_vald_pred_labl = (y_vald_pred_prob > 0.5).int()\n",
    "            y_vald_true_labl = torch.cat(y_vald_true_labl, dim=0)\n",
    "\n",
    "        tran_pc, tran_rc, tran_f1 = calculate_metrics(y_tran_pred_labl, y_tran_true_labl)\n",
    "        vald_pc, vald_rc, vald_f1 = calculate_metrics(y_vald_pred_labl, y_vald_true_labl)\n",
    "\n",
    "        print(f\"Epoch {epoch + 1}/{epochs}, Loss: {avg_loss:.4f}\")\n",
    "        print(f\"Train - Precision: {tran_pc:.4f}, Recall: {tran_rc:.4f}, F1 Score: {tran_f1:.4f}\")\n",
    "        print(f\"Val   - Precision: {vald_pc:.4f}, Recall: {vald_rc:.4f}, F1 Score: {vald_f1:.4f}\\n\")\n",
    "\n",
    "        early_stopping(avg_loss)\n",
    "        if early_stopping.early_stop:\n",
    "            print(\"Early Stop!\")\n",
    "            break\n",
    "\n",
    "model.eval()\n",
    "y_test_pred_prob = []\n",
    "\n",
    "with torch.no_grad():\n",
    "    for batch in datalod_test:\n",
    "        x1_test, x2_test, x3_test, _ = [t.to(device) for t in batch]\n",
    "        y_test_pred_prob.append(model(x1_test, x2_test, x3_test).cpu())\n",
    "\n",
    "    y_test_pred_prob = torch.cat(y_test_pred_prob, dim=0)\n",
    "    y_test_pred_labl = (y_test_pred_prob > 0.5).int()\n",
    "\n",
    "print(f\"Test Prediction Shape: {y_test_pred_labl.shape}\")"
   ]
  },
  {
   "cell_type": "code",
   "execution_count": null,
   "metadata": {},
   "outputs": [],
   "source": [
    "y_tran_pred_labl.sum()"
   ]
  },
  {
   "cell_type": "markdown",
   "metadata": {},
   "source": [
    "### 4. Model Prediction"
   ]
  },
  {
   "cell_type": "code",
   "execution_count": null,
   "metadata": {},
   "outputs": [],
   "source": [
    "def generate_output_csv(x_test_a, y_test_pred_labl):\n",
    "    \n",
    "    result = []\n",
    "    \n",
    "    for i, row in enumerate(y_test_pred_labl):\n",
    "        if ((x_test_a[i, :100] < 1).all() or (x_test_a[i, 100:200] == 0).all() or (x_test_a[i, 200:300] == 0).all() or (x_test_a[i, 300:400] == 0).all() or (x_test_a[i, 400:500] == 0).all()):\n",
    "            result.append(\"-1\")\n",
    "        elif row.sum() == 0 or row[100] == 1:\n",
    "            result.append(\"-1\")\n",
    "        else:\n",
    "            indices = [str(idx) for idx, val in enumerate(row) if val == 1]\n",
    "            result.append(\" \".join(indices))\n",
    "    \n",
    "    result_df = pd.DataFrame({\"ID\": range(len(result)), \"Predict\": result})\n",
    "    \n",
    "    return result_df\n",
    "\n",
    "generate_output_csv(x_test_a, y_test_pred_labl).to_csv(\"../data/data3/result_method3.csv\", index=False)"
   ]
  }
 ],
 "metadata": {
  "kernelspec": {
   "display_name": "base",
   "language": "python",
   "name": "python3"
  },
  "language_info": {
   "codemirror_mode": {
    "name": "ipython",
    "version": 3
   },
   "file_extension": ".py",
   "mimetype": "text/x-python",
   "name": "python",
   "nbconvert_exporter": "python",
   "pygments_lexer": "ipython3",
   "version": "3.12.3"
  }
 },
 "nbformat": 4,
 "nbformat_minor": 4
}
