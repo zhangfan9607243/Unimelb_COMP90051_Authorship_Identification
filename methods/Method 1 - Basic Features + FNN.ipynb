{
 "cells": [
  {
   "cell_type": "markdown",
   "metadata": {},
   "source": [
    "# Authorship Identification"
   ]
  },
  {
   "cell_type": "markdown",
   "metadata": {},
   "source": [
    "## Section 4.1: Method 1 - Basic Features + FNN"
   ]
  },
  {
   "cell_type": "markdown",
   "metadata": {},
   "source": [
    "### 1. Dataset & Data Loader"
   ]
  },
  {
   "cell_type": "code",
   "execution_count": null,
   "metadata": {},
   "outputs": [],
   "source": [
    "import numpy as np\n",
    "import pandas as pd\n",
    "from sklearn.model_selection import train_test_split\n",
    "\n",
    "data_tran = pd.read_json('../data/data2/data_tran.json', orient='records', lines=True)\n",
    "data_test = pd.read_json('../data/data2/data_test.json', orient='records', lines=True)\n",
    "\n",
    "n_tran = data_tran.shape[0]\n",
    "n_test = data_test.shape[0]\n",
    "\n",
    "x_tran_coauthors = np.load(\"../data/data2/x_tran_coauthors.npy\")\n",
    "x_tran_venue_a   = np.load(\"../data/data2/x_tran_venue_a.npy\")\n",
    "x_tran_venue_b   = np.load(\"../data/data2/x_tran_venue_b.npy\")\n",
    "x_tran_text_a    = np.load(\"../data/data2/x_tran_text_a.npy\")\n",
    "x_tran_text_b    = np.load(\"../data/data2/x_tran_text_b.npy\")\n",
    "\n",
    "x_test_coauthors = np.load(\"../data/data2/x_test_coauthors.npy\")\n",
    "x_test_venue_a   = np.load(\"../data/data2/x_test_venue_a.npy\")\n",
    "x_test_venue_b   = np.load(\"../data/data2/x_test_venue_b.npy\")\n",
    "x_test_text_a    = np.load(\"../data/data2/x_test_text_a.npy\")\n",
    "x_test_text_b    = np.load(\"../data/data2/x_test_text_b.npy\")\n",
    "\n",
    "y_tran = np.load(\"../data/data2/y_tran.npy\")\n",
    "x_tran = np.concatenate((x_tran_coauthors, x_tran_venue_a, x_tran_venue_b, x_tran_text_a, x_tran_text_b), axis=1)\n",
    "x_tran, x_vald, y_tran, y_vald = train_test_split(x_tran, y_tran, test_size=1000, random_state=42)\n",
    "x_test = np.concatenate((x_test_coauthors, x_test_venue_a, x_test_venue_b, x_test_text_a, x_test_text_b), axis=1)"
   ]
  },
  {
   "cell_type": "code",
   "execution_count": null,
   "metadata": {},
   "outputs": [],
   "source": [
    "import torch\n",
    "import torch.nn as nn\n",
    "import torch.optim as optim\n",
    "from torch.utils.data import DataLoader, Dataset\n",
    "\n",
    "\n",
    "device = torch.device('cuda' if torch.cuda.is_available() else 'cpu')\n",
    "\n",
    "y_tran = torch.tensor(y_tran, dtype=torch.float32).to(device)\n",
    "x_tran = torch.tensor(x_tran, dtype=torch.float32).to(device)\n",
    "y_vald = torch.tensor(y_vald, dtype=torch.float32).to(device)\n",
    "x_vald = torch.tensor(x_vald, dtype=torch.float32).to(device)\n",
    "x_test = torch.tensor(x_test, dtype=torch.float32).to(device)"
   ]
  },
  {
   "cell_type": "markdown",
   "metadata": {},
   "source": [
    "### 2. Model Structure"
   ]
  },
  {
   "cell_type": "code",
   "execution_count": null,
   "metadata": {},
   "outputs": [],
   "source": [
    "class FNN(nn.Module):\n",
    "    def __init__(self, input_dim, output_dim):\n",
    "        super(FNN, self).__init__()\n",
    "        self.fc1 = nn.Linear(input_dim, 512)\n",
    "        self.fc2 = nn.Linear(512, 256)\n",
    "        self.fc3 = nn.Linear(256, 128)\n",
    "        self.fc4 = nn.Linear(128, output_dim)\n",
    "        self.tanh = nn.Tanh() \n",
    "        self.relu = nn.ReLU()\n",
    "        self.sigmoid = nn.Sigmoid() \n",
    "        self.dropout = nn.Dropout(0.1) \n",
    "\n",
    "    def forward(self, x):\n",
    "        x = self.fc1(x)\n",
    "        x = self.relu(x)\n",
    "        x = self.dropout(x)\n",
    "        x = self.fc2(x)\n",
    "        x = self.relu(x)\n",
    "        x = self.dropout(x)\n",
    "        x = self.fc3(x)\n",
    "        x = self.relu(x)\n",
    "        x = self.dropout(x)\n",
    "        x = self.fc4(x)\n",
    "        x = self.sigmoid(x) \n",
    "        return x"
   ]
  },
  {
   "cell_type": "markdown",
   "metadata": {},
   "source": [
    "### 3. Model Training"
   ]
  },
  {
   "cell_type": "code",
   "execution_count": null,
   "metadata": {},
   "outputs": [],
   "source": [
    "model = FNN(input_dim=x_tran.shape[1], output_dim=y_tran.shape[1]).to(device)\n",
    "criterion = nn.BCELoss()\n",
    "optimizer = optim.Adam(model.parameters(), lr=0.00001, weight_decay=0.00001)"
   ]
  },
  {
   "cell_type": "code",
   "execution_count": null,
   "metadata": {},
   "outputs": [],
   "source": [
    "from sklearn.metrics import precision_score, recall_score, f1_score\n",
    "\n",
    "def calculate_metrics(pred_label, true_label):\n",
    "    pred_label = pred_label.int()\n",
    "    true_label = true_label.int()\n",
    "    pc = precision_score(true_label.cpu(), pred_label.cpu(), average='macro', zero_division=0)\n",
    "    rc = recall_score(true_label.cpu(), pred_label.cpu(), average='macro', zero_division=0)\n",
    "    f1 = f1_score(true_label.cpu(), pred_label.cpu(), average='macro', zero_division=0)\n",
    "    return pc, rc, f1"
   ]
  },
  {
   "cell_type": "code",
   "execution_count": null,
   "metadata": {},
   "outputs": [],
   "source": [
    "class EarlyStopping:\n",
    "    def __init__(self, patience=10, delta=0.001):\n",
    "        self.patience = patience\n",
    "        self.delta = delta\n",
    "        self.best_loss = None\n",
    "        self.counter = 0\n",
    "        self.early_stop = False\n",
    "\n",
    "    def __call__(self, train_loss):\n",
    "        if self.best_loss is None or train_loss < self.best_loss - self.delta:\n",
    "            self.best_loss = train_loss\n",
    "            self.counter = 0\n",
    "        else:\n",
    "            self.counter += 1\n",
    "            if self.counter >= self.patience:\n",
    "                self.early_stop = True\n",
    "\n",
    "early_stopping = EarlyStopping(patience=10, delta=0.001)"
   ]
  },
  {
   "cell_type": "code",
   "execution_count": null,
   "metadata": {},
   "outputs": [],
   "source": [
    "epochs = 50000\n",
    "\n",
    "for epoch in range(epochs):\n",
    "    \n",
    "    model.train()\n",
    "\n",
    "    optimizer.zero_grad()\n",
    "\n",
    "    y_tran_pred_prob = model(x_tran)\n",
    "    loss = criterion(y_tran_pred_prob, y_tran.float())\n",
    "\n",
    "    loss.backward()\n",
    "    optimizer.step()\n",
    "\n",
    "    if (epoch + 1) % 1000 == 0:\n",
    "        model.eval()\n",
    "\n",
    "        with torch.no_grad():\n",
    "            y_tran_pred_prob = model(x_tran)\n",
    "            y_tran_pred_labl = (y_tran_pred_prob > 0.5).int()\n",
    "            tran_pc, tran_rc, tran_f1 = calculate_metrics(y_tran_pred_labl, y_tran)\n",
    "\n",
    "        with torch.no_grad():\n",
    "            y_vald_pred_prob = model(x_vald)\n",
    "            y_vald_pred_labl = (y_vald_pred_prob > 0.5).int()\n",
    "            vald_pc, vald_rc, vald_f1 = calculate_metrics(y_vald_pred_labl, y_vald)\n",
    "\n",
    "        print(f\"Epoch {epoch + 1}/{epochs}, Loss: {loss.item():.4f}\")\n",
    "        print(f\"Train - Precision: {tran_pc:.4f}, Recall: {tran_rc:.4f}, F1 Score: {tran_f1:.4f}\")\n",
    "        print(f\"Val   - Precision: {vald_pc:.4f}, Recall: {vald_rc:.4f}, F1 Score: {vald_f1:.4f}\")\n",
    "        print()\n",
    "\n",
    "        early_stopping(loss)\n",
    "        if early_stopping.early_stop:\n",
    "            print(\"Early Stop !\")\n",
    "            break\n",
    "\n",
    "with torch.no_grad():\n",
    "    y_test_pred_prob = model(x_test)\n",
    "    y_test_pred_labl = (y_test_pred_prob > 0.5).int()\n"
   ]
  },
  {
   "cell_type": "markdown",
   "metadata": {},
   "source": [
    "### 4. Model Prediction"
   ]
  },
  {
   "cell_type": "code",
   "execution_count": null,
   "metadata": {},
   "outputs": [],
   "source": [
    "def generate_output_csv(x_test, y_test_pred_labl):\n",
    "    \n",
    "    result = []\n",
    "    \n",
    "    for i, row in enumerate(y_test_pred_labl):\n",
    "        if ((x_test[i, :100] < 1).all() or (x_test[i, 100:200] == 0).all() or (x_test[i, 200:300] == 0).all() or (x_test[i, 300:400] == 0).all() or (x_test[i, 400:500] == 0).all()):\n",
    "            result.append(\"-1\")\n",
    "        elif row.sum() == 0 or row[100] == 1:\n",
    "            result.append(\"-1\")\n",
    "        else:\n",
    "            indices = [str(idx) for idx, val in enumerate(row) if val == 1]\n",
    "            result.append(\" \".join(indices))\n",
    "    \n",
    "    result_df = pd.DataFrame({\"ID\": range(len(result)), \"Predict\": result})\n",
    "    \n",
    "    return result_df\n",
    "\n",
    "generate_output_csv(x_test, y_test_pred_labl).to_csv(\"../data/data3/result_method1.csv\", index=False)"
   ]
  }
 ],
 "metadata": {
  "kernelspec": {
   "display_name": "base",
   "language": "python",
   "name": "python3"
  },
  "language_info": {
   "codemirror_mode": {
    "name": "ipython",
    "version": 3
   },
   "file_extension": ".py",
   "mimetype": "text/x-python",
   "name": "python",
   "nbconvert_exporter": "python",
   "pygments_lexer": "ipython3",
   "version": "3.12.3"
  }
 },
 "nbformat": 4,
 "nbformat_minor": 4
}
