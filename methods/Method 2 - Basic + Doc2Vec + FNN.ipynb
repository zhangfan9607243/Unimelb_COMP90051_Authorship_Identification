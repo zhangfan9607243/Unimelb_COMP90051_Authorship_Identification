{
 "cells": [
  {
   "cell_type": "markdown",
   "metadata": {},
   "source": [
    "# Authorship Identification"
   ]
  },
  {
   "cell_type": "markdown",
   "metadata": {},
   "source": [
    "## Section 4.2: Method 2 - Basic Features & Doc2Vec + FNN"
   ]
  },
  {
   "cell_type": "markdown",
   "metadata": {},
   "source": [
    "### 1. Dataset & Data Loader"
   ]
  },
  {
   "cell_type": "code",
   "execution_count": null,
   "metadata": {},
   "outputs": [],
   "source": [
    "import numpy as np\n",
    "import pandas as pd\n",
    "\n",
    "data_tran = pd.read_json('../data/data2/data_tran.json', orient='records', lines=True)\n",
    "data_test = pd.read_json('../data/data2/data_test.json', orient='records', lines=True)\n",
    "\n",
    "n_tran = data_tran.shape[0]\n",
    "n_test = data_test.shape[0]\n",
    "\n",
    "x_tran_coauthors = np.load(\"../data/data2/x_tran_coauthors.npy\")\n",
    "x_tran_venue_a   = np.load(\"../data/data2/x_tran_venue_a.npy\")\n",
    "x_tran_venue_b   = np.load(\"../data/data2/x_tran_venue_b.npy\")\n",
    "x_tran_text_a    = np.load(\"../data/data2/x_tran_text_a.npy\")\n",
    "x_tran_text_b    = np.load(\"../data/data2/x_tran_text_b.npy\")\n",
    "\n",
    "x_test_coauthors = np.load(\"../data/data2/x_test_coauthors.npy\")\n",
    "x_test_venue_a   = np.load(\"../data/data2/x_test_venue_a.npy\")\n",
    "x_test_venue_b   = np.load(\"../data/data2/x_test_venue_b.npy\")\n",
    "x_test_text_a    = np.load(\"../data/data2/x_test_text_a.npy\")\n",
    "x_test_text_b    = np.load(\"../data/data2/x_test_text_b.npy\")\n",
    "\n",
    "x_tran_title_doc2vec = np.load('../data/data2/x_tran_title_doc2vec.npy')\n",
    "x_test_title_doc2vec = np.load('../data/data2/x_test_title_doc2vec.npy')\n",
    "\n",
    "x_tran_abstract_doc2vec = np.load('../data/data2/x_tran_abstract_doc2vec.npy')\n",
    "x_test_abstract_doc2vec = np.load('../data/data2/x_test_abstract_doc2vec.npy')\n",
    "\n",
    "y_tran_basic = np.load(\"../data/data2/y_tran.npy\")\n",
    "x_tran_basic = np.concatenate((x_tran_coauthors, x_tran_venue_a, x_tran_venue_b, x_tran_text_a, x_tran_text_b), axis=1)\n",
    "x_test_basic = np.concatenate((x_test_coauthors, x_test_venue_a, x_test_venue_b, x_test_text_a, x_test_text_b), axis=1)"
   ]
  },
  {
   "cell_type": "code",
   "execution_count": null,
   "metadata": {},
   "outputs": [],
   "source": [
    "import torch\n",
    "\n",
    "device = torch.device('cuda' if torch.cuda.is_available() else 'cpu')\n",
    "\n",
    "idxs = np.random.permutation(n_tran)\n",
    "inxs_prop = int(0.85 * n_tran)\n",
    "idxs_tran_indices = idxs[:inxs_prop]\n",
    "idxs_vald_indices = idxs[inxs_prop:]\n",
    "\n",
    "x_tran_a = torch.tensor(x_tran_basic[idxs_tran_indices], dtype=torch.float32).to(device)\n",
    "x_vald_a = torch.tensor(x_tran_basic[idxs_vald_indices], dtype=torch.float32).to(device)\n",
    "x_test_a = torch.tensor(x_test_basic, dtype=torch.float32).to(device)\n",
    "\n",
    "x_tran_b = torch.tensor(x_tran_title_doc2vec[idxs_tran_indices], dtype=torch.float32).to(device)\n",
    "x_vald_b = torch.tensor(x_tran_title_doc2vec[idxs_vald_indices], dtype=torch.float32).to(device)\n",
    "x_test_b = torch.tensor(x_test_title_doc2vec, dtype=torch.float32).to(device)\n",
    "\n",
    "x_tran_c = torch.tensor(x_tran_abstract_doc2vec[idxs_tran_indices], dtype=torch.float32).to(device)\n",
    "x_vald_c = torch.tensor(x_tran_abstract_doc2vec[idxs_vald_indices], dtype=torch.float32).to(device)\n",
    "x_test_c = torch.tensor(x_test_abstract_doc2vec, dtype=torch.float32).to(device)\n",
    "\n",
    "y_tran   = torch.tensor(y_tran_basic[idxs_tran_indices], dtype=torch.float32).to(device)\n",
    "y_vald   = torch.tensor(y_tran_basic[idxs_vald_indices], dtype=torch.float32).to(device)"
   ]
  },
  {
   "cell_type": "code",
   "execution_count": null,
   "metadata": {},
   "outputs": [],
   "source": [
    "import torch\n",
    "import torch.nn as nn\n",
    "import torch.optim as optim\n",
    "from torch.utils.data import DataLoader, Dataset\n",
    "\n",
    "class ModelDataset(Dataset):\n",
    "    def __init__(self, x1, x2, x3, y):\n",
    "        self.x1 = x1\n",
    "        self.x2 = x2\n",
    "        self.x3 = x3\n",
    "        self.y  = y\n",
    "\n",
    "    def __len__(self):\n",
    "        return len(self.x1)\n",
    "\n",
    "    def __getitem__(self, idx):\n",
    "        x1 = self.x1[idx].clone().detach().float()\n",
    "        x2 = self.x2[idx].clone().detach().float()\n",
    "        x3 = self.x3[idx].clone().detach().float()\n",
    "        y  = self.y[idx].clone().detach().float()\n",
    "        return x1, x2, x3, y\n"
   ]
  },
  {
   "cell_type": "code",
   "execution_count": null,
   "metadata": {},
   "outputs": [],
   "source": [
    "dataset_tran = ModelDataset(x_tran_a, x_tran_b, x_tran_c, y_tran)\n",
    "datalod_tran = DataLoader(dataset_tran, batch_size=32, shuffle=True)"
   ]
  },
  {
   "cell_type": "markdown",
   "metadata": {},
   "source": [
    "### 2. Model Structure"
   ]
  },
  {
   "cell_type": "code",
   "execution_count": null,
   "metadata": {},
   "outputs": [],
   "source": [
    "class FNN(nn.Module):\n",
    "\n",
    "    def __init__(self, input_dim1, input_dim2, input_dim3, output_dim):\n",
    "        super(FNN, self).__init__()\n",
    "\n",
    "        self.model = nn.Sequential(\n",
    "            nn.Linear(input_dim1 + input_dim2 + input_dim3, 1024),\n",
    "            nn.ReLU(),\n",
    "            nn.Dropout(0.1),\n",
    "            nn.Linear(1024, 512),\n",
    "            nn.ReLU(),\n",
    "            nn.Dropout(0.1),\n",
    "            nn.Linear(512, 256),\n",
    "            nn.ReLU(),\n",
    "            nn.Dropout(0.1),\n",
    "            nn.Linear(256, 128),\n",
    "            nn.ReLU(),\n",
    "            nn.Linear(128, output_dim),\n",
    "            nn.Sigmoid(),\n",
    "        )\n",
    "\n",
    "    def forward(self, x1, x2, x3):\n",
    "\n",
    "        if len(x1.shape) == 1:\n",
    "            x1 = x1.unsqueeze(0)\n",
    "            x2 = x2.unsqueeze(0)\n",
    "            x3 = x3.unsqueeze(0)\n",
    "        \n",
    "        x = torch.cat((x1, x2, x3), dim=1)\n",
    "\n",
    "        x = self.model(x)\n",
    "\n",
    "        return x\n"
   ]
  },
  {
   "cell_type": "markdown",
   "metadata": {},
   "source": [
    "### 3. Model Training"
   ]
  },
  {
   "cell_type": "code",
   "execution_count": null,
   "metadata": {},
   "outputs": [],
   "source": [
    "input_dim1 = x_tran_a.shape[1]\n",
    "input_dim2 = x_tran_b.shape[1]\n",
    "input_dim3 = x_tran_c.shape[1] \n",
    "output_dim = y_tran.shape[1] \n",
    "\n",
    "model = FNN(input_dim1, input_dim2, input_dim3, output_dim).to(device)\n",
    "criterion = nn.BCELoss() \n",
    "optimizer = optim.Adam(model.parameters(), lr=0.00001, weight_decay=0.00001)"
   ]
  },
  {
   "cell_type": "code",
   "execution_count": null,
   "metadata": {},
   "outputs": [],
   "source": [
    "from sklearn.metrics import precision_score, recall_score, f1_score\n",
    "\n",
    "def calculate_metrics(pred_label, true_label):\n",
    "    pred_label = pred_label.int()\n",
    "    true_label = true_label.int()\n",
    "    pc = precision_score(true_label.cpu(), pred_label.cpu(), average='macro', zero_division=0)\n",
    "    rc = recall_score(true_label.cpu(), pred_label.cpu(), average='macro', zero_division=0)\n",
    "    f1 = f1_score(true_label.cpu(), pred_label.cpu(), average='macro', zero_division=0)\n",
    "    return pc, rc, f1"
   ]
  },
  {
   "cell_type": "code",
   "execution_count": null,
   "metadata": {},
   "outputs": [],
   "source": [
    "class EarlyStopping:\n",
    "    def __init__(self, patience=10, delta=0.001):\n",
    "        self.patience = patience\n",
    "        self.delta = delta\n",
    "        self.best_loss = None\n",
    "        self.counter = 0\n",
    "        self.early_stop = False\n",
    "\n",
    "    def __call__(self, train_loss):\n",
    "        if self.best_loss is None or train_loss < self.best_loss - self.delta:\n",
    "            self.best_loss = train_loss\n",
    "            self.counter = 0\n",
    "        else:\n",
    "            self.counter += 1\n",
    "            if self.counter >= self.patience:\n",
    "                self.early_stop = True\n",
    "\n",
    "early_stopping = EarlyStopping(patience=10, delta=0.001)"
   ]
  },
  {
   "cell_type": "code",
   "execution_count": null,
   "metadata": {},
   "outputs": [],
   "source": [
    "epochs = 50000\n",
    "\n",
    "for epoch in range(epochs):\n",
    "    model.train() \n",
    "\n",
    "    total_loss = 0 \n",
    "\n",
    "    for batch in datalod_tran:\n",
    "        x1, x2, x3, y = batch\n",
    "        x1, x2, x3, y = x1.to(device), x2.to(device), x3.to(device), y.to(device)\n",
    "\n",
    "        outputs = model(x1, x2, x3)\n",
    "        loss = criterion(outputs, y.float())\n",
    "\n",
    "        optimizer.zero_grad()\n",
    "        loss.backward()\n",
    "        optimizer.step()\n",
    "\n",
    "        total_loss += loss.item()\n",
    "\n",
    "    avg_loss = total_loss / len(datalod_tran) \n",
    "\n",
    "    if (epoch + 1) % 100 == 0:\n",
    "        model.eval() \n",
    "\n",
    "        with torch.no_grad():\n",
    "            y_tran_pred_prob = model(x_tran_a, x_tran_b, x_tran_c)\n",
    "            y_tran_pred_labl = (y_tran_pred_prob > 0.5).int()\n",
    "            tran_pc, tran_rc, tran_f1 = calculate_metrics(y_tran_pred_labl, y_tran)\n",
    "\n",
    "            y_vald_pred_prob = model(x_vald_a, x_vald_b, x_vald_c)\n",
    "            y_vald_pred_labl = (y_vald_pred_prob > 0.5).int()\n",
    "            vald_pc, vald_rc, vald_f1 = calculate_metrics(y_vald_pred_labl, y_vald)\n",
    "\n",
    "        print(f\"Epoch {epoch + 1}/{epochs}, Loss: {avg_loss:.4f}\")\n",
    "        print(f\"Train - Precision: {tran_pc:.4f}, Recall: {tran_rc:.4f}, F1 Score: {tran_f1:.4f}\")\n",
    "        print(f\"Val   - Precision: {vald_pc:.4f}, Recall: {vald_rc:.4f}, F1 Score: {vald_f1:.4f}\")\n",
    "        print()\n",
    "\n",
    "        early_stopping(avg_loss)\n",
    "        if early_stopping.early_stop:\n",
    "            print(\"Early Stop!\")\n",
    "            break\n",
    "\n",
    "with torch.no_grad():\n",
    "    y_test_pred_prob = model(x_test_a, x_test_b, x_test_c)\n",
    "    y_test_pred_labl = (y_test_pred_prob > 0.5).int()"
   ]
  },
  {
   "cell_type": "markdown",
   "metadata": {},
   "source": [
    "### 4. Model Prediction"
   ]
  },
  {
   "cell_type": "code",
   "execution_count": null,
   "metadata": {},
   "outputs": [],
   "source": [
    "def generate_output_csv(x_test_a, y_test_pred_labl):\n",
    "    \n",
    "    result = []\n",
    "    \n",
    "    for i, row in enumerate(y_test_pred_labl):\n",
    "        if ((x_test_a[i, :100] < 1).all() or (x_test_a[i, 100:200] == 0).all() or (x_test_a[i, 200:300] == 0).all() or (x_test_a[i, 300:400] == 0).all() or (x_test_a[i, 400:500] == 0).all()):\n",
    "            result.append(\"-1\")\n",
    "        elif row.sum() == 0 or row[100] == 1:\n",
    "            result.append(\"-1\")\n",
    "        else:\n",
    "            indices = [str(idx) for idx, val in enumerate(row) if val == 1]\n",
    "            result.append(\" \".join(indices))\n",
    "    \n",
    "    result_df = pd.DataFrame({\"ID\": range(len(result)), \"Predict\": result})\n",
    "    \n",
    "    return result_df\n",
    "\n",
    "generate_output_csv(x_test_a, y_test_pred_labl).to_csv(\"../data/data3/result_method2.csv\", index=False)"
   ]
  }
 ],
 "metadata": {
  "kernelspec": {
   "display_name": "base",
   "language": "python",
   "name": "python3"
  },
  "language_info": {
   "codemirror_mode": {
    "name": "ipython",
    "version": 3
   },
   "file_extension": ".py",
   "mimetype": "text/x-python",
   "name": "python",
   "nbconvert_exporter": "python",
   "pygments_lexer": "ipython3",
   "version": "3.12.3"
  }
 },
 "nbformat": 4,
 "nbformat_minor": 4
}
