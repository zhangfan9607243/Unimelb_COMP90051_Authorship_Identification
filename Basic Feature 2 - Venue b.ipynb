{
 "cells": [
  {
   "cell_type": "markdown",
   "metadata": {},
   "source": [
    "## Feature Engineering - Venue"
   ]
  },
  {
   "cell_type": "code",
   "execution_count": 1,
   "metadata": {},
   "outputs": [],
   "source": [
    "import numpy as np\n",
    "import pandas as pd\n",
    "\n",
    "from tqdm import tqdm\n",
    "from joblib import Parallel, delayed"
   ]
  },
  {
   "cell_type": "code",
   "execution_count": 2,
   "metadata": {},
   "outputs": [],
   "source": [
    "data_tran = pd.read_json('data2/data_tran.json', orient='records', lines=True)\n",
    "data_test = pd.read_json('data2/data_test.json', orient='records', lines=True)\n",
    "\n",
    "n_tran = data_tran.shape[0]\n",
    "n_test = data_test.shape[0]"
   ]
  },
  {
   "cell_type": "code",
   "execution_count": 3,
   "metadata": {},
   "outputs": [
    {
     "name": "stderr",
     "output_type": "stream",
     "text": [
      "100%|██████████| 8460/8460 [00:00<00:00, 19644.63it/s]\n"
     ]
    }
   ],
   "source": [
    "import numpy as np\n",
    "from tqdm import tqdm\n",
    "\n",
    "def get_venue_dict(data):\n",
    "    \n",
    "    num_venues=466\n",
    "    vector_size=21246\n",
    "\n",
    "    venue_dict = {venue: np.zeros(vector_size, dtype=int) for venue in range(num_venues)}\n",
    "\n",
    "    for _, row in tqdm(data.iterrows(), total=len(data)):\n",
    "        venue = row['venue'] \n",
    "        authors = row['authors'] \n",
    "\n",
    "        for author_id in authors:\n",
    "            if author_id < 21246: \n",
    "                venue_dict[venue][author_id] += 1\n",
    "\n",
    "    return venue_dict\n",
    "\n",
    "venue_dict = get_venue_dict(data_tran)"
   ]
  },
  {
   "cell_type": "code",
   "execution_count": 4,
   "metadata": {},
   "outputs": [],
   "source": [
    "def get_venue_vector(coauthor_list, venue_dict):\n",
    "\n",
    "    temp_array = np.zeros(100) \n",
    "\n",
    "    for author in coauthor_list:\n",
    "        relevant_venues = [venue for venue, array in venue_dict.items() if array[author] > 0]\n",
    "        for venue in relevant_venues:\n",
    "            temp_array += venue_dict[venue][:100]\n",
    "\n",
    "    return temp_array.reshape(1, 100)"
   ]
  },
  {
   "cell_type": "code",
   "execution_count": 5,
   "metadata": {},
   "outputs": [],
   "source": [
    "def get_venue_matrix(data, venue_dict):\n",
    "    vectors_list = Parallel(n_jobs=-1)(delayed(get_venue_vector)(row['coauthors'], venue_dict) for _, row in tqdm(data.iterrows(), total=len(data)))\n",
    "    return np.concatenate(vectors_list, axis=0)"
   ]
  },
  {
   "cell_type": "code",
   "execution_count": null,
   "metadata": {},
   "outputs": [
    {
     "name": "stderr",
     "output_type": "stream",
     "text": [
      "100%|██████████| 8460/8460 [30:51<00:00,  4.57it/s]\n",
      " 38%|███▊      | 300/800 [00:59<01:46,  4.69it/s]"
     ]
    }
   ],
   "source": [
    "x_tran_venue = get_venue_matrix(data_tran, venue_dict)\n",
    "x_test_venue = get_venue_matrix(data_test, venue_dict)\n",
    "\n",
    "np.save('data2/x_tran_venue_b.npy', x_tran_venue)\n",
    "np.save('data2/x_test_venue_b.npy', x_test_venue)"
   ]
  }
 ],
 "metadata": {
  "kernelspec": {
   "display_name": "Python 3 (ipykernel)",
   "language": "python",
   "name": "python3"
  },
  "language_info": {
   "codemirror_mode": {
    "name": "ipython",
    "version": 3
   },
   "file_extension": ".py",
   "mimetype": "text/x-python",
   "name": "python",
   "nbconvert_exporter": "python",
   "pygments_lexer": "ipython3",
   "version": "3.12.3"
  }
 },
 "nbformat": 4,
 "nbformat_minor": 4
}
