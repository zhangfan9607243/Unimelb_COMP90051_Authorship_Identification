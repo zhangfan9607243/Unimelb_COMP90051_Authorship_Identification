{
 "cells": [
  {
   "cell_type": "code",
   "execution_count": 1,
   "metadata": {},
   "outputs": [],
   "source": [
    "import numpy as np\n",
    "import pandas as pd\n",
    "\n",
    "from gensim.models import Word2Vec\n",
    "from gensim.models.doc2vec import Doc2Vec, TaggedDocument"
   ]
  },
  {
   "cell_type": "markdown",
   "metadata": {},
   "source": [
    "### Train & Save Model"
   ]
  },
  {
   "cell_type": "code",
   "execution_count": 2,
   "metadata": {},
   "outputs": [],
   "source": [
    "data_tran = pd.read_json('data2/data_tran.json', orient='records', lines=True)\n",
    "data_test = pd.read_json('data2/data_test.json', orient='records', lines=True)\n",
    "\n",
    "n_tran = data_tran.shape[0]\n",
    "n_test = data_test.shape[0]"
   ]
  },
  {
   "cell_type": "code",
   "execution_count": null,
   "metadata": {},
   "outputs": [],
   "source": [
    "corpus_title = [text.split() for text in data_tran[\"title_text\"]]\n",
    "model_word2vec_title = Word2Vec(sentences=corpus_title, vector_size=100, window=5, min_count=1, workers=6, sg=1, epochs=1000)\n",
    "model_word2vec_title.save(\"data3/model_word2vec_title.bin\")"
   ]
  },
  {
   "cell_type": "code",
   "execution_count": null,
   "metadata": {},
   "outputs": [],
   "source": [
    "corpus_abstrct = [text.split() for text in data_tran[\"abstract_text\"]]\n",
    "model_word2vec_abstrct = Word2Vec(sentences=corpus_abstrct, vector_size=200, window=5, min_count=1, workers=6, sg=1, epochs=1000)\n",
    "model_word2vec_abstrct.save(\"data3/model_word2vec_abstract.bin\")"
   ]
  },
  {
   "cell_type": "markdown",
   "metadata": {},
   "source": [
    "### Load Model"
   ]
  },
  {
   "cell_type": "code",
   "execution_count": 3,
   "metadata": {},
   "outputs": [],
   "source": [
    "model_word2vec_title = Word2Vec.load(\"data3/model_word2vec_title.bin\")\n",
    "model_word2vec_abstrct = Word2Vec.load(\"data3/model_word2vec_abstract.bin\")\n",
    "\n",
    "x_tran_title_word_vectors = {word: model_word2vec_title.wv[word] for word in model_word2vec_title.wv.index_to_key}\n",
    "x_tran_abstract_word_vectors = {word: model_word2vec_abstrct.wv[word] for word in model_word2vec_abstrct.wv.index_to_key}"
   ]
  },
  {
   "cell_type": "code",
   "execution_count": 9,
   "metadata": {},
   "outputs": [],
   "source": [
    "import json\n",
    "\n",
    "x_tran_title_word_vectors_json = {word: vector.tolist() for word, vector in x_tran_title_word_vectors.items()}\n",
    "x_tran_abstract_word_vectors_json = {word: vector.tolist() for word, vector in x_tran_abstract_word_vectors.items()}\n",
    "\n",
    "with open(\"data2/x_tran_title_word_vectors.json\", \"w\") as f:\n",
    "    json.dump(x_tran_title_word_vectors_json, f)\n",
    "\n",
    "with open(\"data2/x_tran_abstract_word_vectors.json\", \"w\") as f:\n",
    "    json.dump(x_tran_title_word_vectors_json, f)"
   ]
  }
 ],
 "metadata": {
  "kernelspec": {
   "display_name": "base",
   "language": "python",
   "name": "python3"
  },
  "language_info": {
   "codemirror_mode": {
    "name": "ipython",
    "version": 3
   },
   "file_extension": ".py",
   "mimetype": "text/x-python",
   "name": "python",
   "nbconvert_exporter": "python",
   "pygments_lexer": "ipython3",
   "version": "3.12.3"
  }
 },
 "nbformat": 4,
 "nbformat_minor": 4
}
